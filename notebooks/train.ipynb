{
 "cells": [
  {
   "cell_type": "code",
   "execution_count": 1,
   "metadata": {},
   "outputs": [
    {
     "name": "stdout",
     "output_type": "stream",
     "text": [
      "Defaulting to user installation because normal site-packages is not writeable\n",
      "Requirement already satisfied: findspark in /home/ubuntu/.local/lib/python3.8/site-packages (2.0.1)\n"
     ]
    }
   ],
   "source": [
    "!pip install findspark"
   ]
  },
  {
   "cell_type": "code",
   "execution_count": 1,
   "metadata": {},
   "outputs": [],
   "source": [
    "import os\n",
    "\n",
    "import findspark\n",
    "findspark.init()\n",
    "\n",
    "from pyspark.sql import SparkSession"
   ]
  },
  {
   "cell_type": "code",
   "execution_count": 29,
   "metadata": {},
   "outputs": [],
   "source": [
    "os.environ['PYSPARK_PYTHON'] = './venv/bin/python'\n",
    "spark = SparkSession\\\n",
    "    .builder\\\n",
    "    .master('local[*]')\\\n",
    "    .appName('Spark ML Research')\\\n",
    "    .config('spark.sql.repl.eagerEval.enabled', True) \\\n",
    "    .config('spark.yarn.dist.archives', 's3a://pyspark-venvs/mlflow-hyperopt-dataproc-2.1.18.tar.gz#venv')\\\n",
    "    .getOrCreate()"
   ]
  },
  {
   "cell_type": "markdown",
   "metadata": {},
   "source": [
    "## Считываем данные "
   ]
  },
  {
   "cell_type": "code",
   "execution_count": 30,
   "metadata": {},
   "outputs": [
    {
     "data": {
      "text/html": [
       "<table border='1'>\n",
       "<tr><th>Survived</th><th>Pclass</th><th>Sex</th><th>Age</th><th>SibSp</th><th>Parch</th><th>Fare</th><th>Embarked</th></tr>\n",
       "<tr><td>0</td><td>3</td><td>male</td><td>22.0</td><td>1</td><td>0</td><td>7.25</td><td>S</td></tr>\n",
       "<tr><td>1</td><td>1</td><td>female</td><td>38.0</td><td>1</td><td>0</td><td>71.2833</td><td>C</td></tr>\n",
       "<tr><td>1</td><td>3</td><td>female</td><td>26.0</td><td>0</td><td>0</td><td>7.925</td><td>S</td></tr>\n",
       "<tr><td>1</td><td>1</td><td>female</td><td>35.0</td><td>1</td><td>0</td><td>53.1</td><td>S</td></tr>\n",
       "<tr><td>0</td><td>3</td><td>male</td><td>35.0</td><td>0</td><td>0</td><td>8.05</td><td>S</td></tr>\n",
       "<tr><td>0</td><td>1</td><td>male</td><td>54.0</td><td>0</td><td>0</td><td>51.8625</td><td>S</td></tr>\n",
       "<tr><td>0</td><td>3</td><td>male</td><td>2.0</td><td>3</td><td>1</td><td>21.075</td><td>S</td></tr>\n",
       "<tr><td>1</td><td>3</td><td>female</td><td>27.0</td><td>0</td><td>2</td><td>11.1333</td><td>S</td></tr>\n",
       "<tr><td>1</td><td>2</td><td>female</td><td>14.0</td><td>1</td><td>0</td><td>30.0708</td><td>C</td></tr>\n",
       "<tr><td>1</td><td>3</td><td>female</td><td>4.0</td><td>1</td><td>1</td><td>16.7</td><td>S</td></tr>\n",
       "</table>\n"
      ],
      "text/plain": [
       "+--------+------+------+----+-----+-----+-------+--------+\n",
       "|Survived|Pclass|   Sex| Age|SibSp|Parch|   Fare|Embarked|\n",
       "+--------+------+------+----+-----+-----+-------+--------+\n",
       "|       0|     3|  male|22.0|    1|    0|   7.25|       S|\n",
       "|       1|     1|female|38.0|    1|    0|71.2833|       C|\n",
       "|       1|     3|female|26.0|    0|    0|  7.925|       S|\n",
       "|       1|     1|female|35.0|    1|    0|   53.1|       S|\n",
       "|       0|     3|  male|35.0|    0|    0|   8.05|       S|\n",
       "|       0|     1|  male|54.0|    0|    0|51.8625|       S|\n",
       "|       0|     3|  male| 2.0|    3|    1| 21.075|       S|\n",
       "|       1|     3|female|27.0|    0|    2|11.1333|       S|\n",
       "|       1|     2|female|14.0|    1|    0|30.0708|       C|\n",
       "|       1|     3|female| 4.0|    1|    1|   16.7|       S|\n",
       "+--------+------+------+----+-----+-----+-------+--------+"
      ]
     },
     "execution_count": 30,
     "metadata": {},
     "output_type": "execute_result"
    }
   ],
   "source": [
    "df = spark.read.csv(\n",
    "    's3a://mlops204-dataproc-bucket/data/titanic/train.csv', \n",
    "    header=True, \n",
    "    inferSchema=True\n",
    ")\n",
    "\n",
    "df = df.select([\n",
    "    'Survived',\n",
    "    'Pclass',\n",
    "    'Sex',\n",
    "    'Age',\n",
    "    'SibSp',\n",
    "    'Parch',\n",
    "    'Fare',\n",
    "    'Embarked'\n",
    "]).na.drop()\n",
    "\n",
    "df.limit(10)"
   ]
  },
  {
   "cell_type": "markdown",
   "metadata": {},
   "source": [
    "## Конструируем пайплайн обработки данных"
   ]
  },
  {
   "cell_type": "code",
   "execution_count": 31,
   "metadata": {},
   "outputs": [],
   "source": [
    "from pyspark.ml.feature import VectorAssembler, OneHotEncoder, StringIndexer\n",
    "from pyspark.ml import Pipeline"
   ]
  },
  {
   "cell_type": "code",
   "execution_count": 32,
   "metadata": {},
   "outputs": [],
   "source": [
    "gender_index = StringIndexer(inputCol='Sex', outputCol='SexIndex')\n",
    "gender_encoder = OneHotEncoder(inputCol='SexIndex', outputCol='SexVector')\n",
    "\n",
    "embark_indexer = StringIndexer(inputCol='Embarked', outputCol='EmbarkedIndex')\n",
    "embark_encoder = OneHotEncoder(inputCol='EmbarkedIndex', outputCol='EmbarkVector')\n",
    "\n",
    "assembler = VectorAssembler(\n",
    "    inputCols=[\n",
    "        'Pclass',\n",
    "        'SexVector',\n",
    "        'Age',\n",
    "        'SibSp',\n",
    "        'Parch',\n",
    "        'Fare',\n",
    "        'EmbarkVector'\n",
    "    ],\n",
    "    outputCol='features'\n",
    ")\n",
    "\n",
    "dataproc = Pipeline(stages=[\n",
    "    gender_index,\n",
    "    embark_indexer,\n",
    "    gender_encoder,\n",
    "    embark_encoder,\n",
    "    assembler\n",
    "])"
   ]
  },
  {
   "cell_type": "code",
   "execution_count": 33,
   "metadata": {},
   "outputs": [
    {
     "data": {
      "text/html": [
       "<table border='1'>\n",
       "<tr><th>Survived</th><th>Pclass</th><th>Sex</th><th>Age</th><th>SibSp</th><th>Parch</th><th>Fare</th><th>Embarked</th><th>SexIndex</th><th>EmbarkedIndex</th><th>SexVector</th><th>EmbarkVector</th><th>features</th></tr>\n",
       "<tr><td>0</td><td>3</td><td>male</td><td>22.0</td><td>1</td><td>0</td><td>7.25</td><td>S</td><td>0.0</td><td>0.0</td><td>(1,[0],[1.0])</td><td>(2,[0],[1.0])</td><td>[3.0,1.0,22.0,1.0...</td></tr>\n",
       "<tr><td>1</td><td>1</td><td>female</td><td>38.0</td><td>1</td><td>0</td><td>71.2833</td><td>C</td><td>1.0</td><td>1.0</td><td>(1,[],[])</td><td>(2,[1],[1.0])</td><td>[1.0,0.0,38.0,1.0...</td></tr>\n",
       "<tr><td>1</td><td>3</td><td>female</td><td>26.0</td><td>0</td><td>0</td><td>7.925</td><td>S</td><td>1.0</td><td>0.0</td><td>(1,[],[])</td><td>(2,[0],[1.0])</td><td>(8,[0,2,5,6],[3.0...</td></tr>\n",
       "<tr><td>1</td><td>1</td><td>female</td><td>35.0</td><td>1</td><td>0</td><td>53.1</td><td>S</td><td>1.0</td><td>0.0</td><td>(1,[],[])</td><td>(2,[0],[1.0])</td><td>[1.0,0.0,35.0,1.0...</td></tr>\n",
       "<tr><td>0</td><td>3</td><td>male</td><td>35.0</td><td>0</td><td>0</td><td>8.05</td><td>S</td><td>0.0</td><td>0.0</td><td>(1,[0],[1.0])</td><td>(2,[0],[1.0])</td><td>[3.0,1.0,35.0,0.0...</td></tr>\n",
       "<tr><td>0</td><td>1</td><td>male</td><td>54.0</td><td>0</td><td>0</td><td>51.8625</td><td>S</td><td>0.0</td><td>0.0</td><td>(1,[0],[1.0])</td><td>(2,[0],[1.0])</td><td>[1.0,1.0,54.0,0.0...</td></tr>\n",
       "<tr><td>0</td><td>3</td><td>male</td><td>2.0</td><td>3</td><td>1</td><td>21.075</td><td>S</td><td>0.0</td><td>0.0</td><td>(1,[0],[1.0])</td><td>(2,[0],[1.0])</td><td>[3.0,1.0,2.0,3.0,...</td></tr>\n",
       "<tr><td>1</td><td>3</td><td>female</td><td>27.0</td><td>0</td><td>2</td><td>11.1333</td><td>S</td><td>1.0</td><td>0.0</td><td>(1,[],[])</td><td>(2,[0],[1.0])</td><td>[3.0,0.0,27.0,0.0...</td></tr>\n",
       "<tr><td>1</td><td>2</td><td>female</td><td>14.0</td><td>1</td><td>0</td><td>30.0708</td><td>C</td><td>1.0</td><td>1.0</td><td>(1,[],[])</td><td>(2,[1],[1.0])</td><td>[2.0,0.0,14.0,1.0...</td></tr>\n",
       "<tr><td>1</td><td>3</td><td>female</td><td>4.0</td><td>1</td><td>1</td><td>16.7</td><td>S</td><td>1.0</td><td>0.0</td><td>(1,[],[])</td><td>(2,[0],[1.0])</td><td>[3.0,0.0,4.0,1.0,...</td></tr>\n",
       "</table>\n"
      ],
      "text/plain": [
       "+--------+------+------+----+-----+-----+-------+--------+--------+-------------+-------------+-------------+--------------------+\n",
       "|Survived|Pclass|   Sex| Age|SibSp|Parch|   Fare|Embarked|SexIndex|EmbarkedIndex|    SexVector| EmbarkVector|            features|\n",
       "+--------+------+------+----+-----+-----+-------+--------+--------+-------------+-------------+-------------+--------------------+\n",
       "|       0|     3|  male|22.0|    1|    0|   7.25|       S|     0.0|          0.0|(1,[0],[1.0])|(2,[0],[1.0])|[3.0,1.0,22.0,1.0...|\n",
       "|       1|     1|female|38.0|    1|    0|71.2833|       C|     1.0|          1.0|    (1,[],[])|(2,[1],[1.0])|[1.0,0.0,38.0,1.0...|\n",
       "|       1|     3|female|26.0|    0|    0|  7.925|       S|     1.0|          0.0|    (1,[],[])|(2,[0],[1.0])|(8,[0,2,5,6],[3.0...|\n",
       "|       1|     1|female|35.0|    1|    0|   53.1|       S|     1.0|          0.0|    (1,[],[])|(2,[0],[1.0])|[1.0,0.0,35.0,1.0...|\n",
       "|       0|     3|  male|35.0|    0|    0|   8.05|       S|     0.0|          0.0|(1,[0],[1.0])|(2,[0],[1.0])|[3.0,1.0,35.0,0.0...|\n",
       "|       0|     1|  male|54.0|    0|    0|51.8625|       S|     0.0|          0.0|(1,[0],[1.0])|(2,[0],[1.0])|[1.0,1.0,54.0,0.0...|\n",
       "|       0|     3|  male| 2.0|    3|    1| 21.075|       S|     0.0|          0.0|(1,[0],[1.0])|(2,[0],[1.0])|[3.0,1.0,2.0,3.0,...|\n",
       "|       1|     3|female|27.0|    0|    2|11.1333|       S|     1.0|          0.0|    (1,[],[])|(2,[0],[1.0])|[3.0,0.0,27.0,0.0...|\n",
       "|       1|     2|female|14.0|    1|    0|30.0708|       C|     1.0|          1.0|    (1,[],[])|(2,[1],[1.0])|[2.0,0.0,14.0,1.0...|\n",
       "|       1|     3|female| 4.0|    1|    1|   16.7|       S|     1.0|          0.0|    (1,[],[])|(2,[0],[1.0])|[3.0,0.0,4.0,1.0,...|\n",
       "+--------+------+------+----+-----+-----+-------+--------+--------+-------------+-------------+-------------+--------------------+"
      ]
     },
     "execution_count": 33,
     "metadata": {},
     "output_type": "execute_result"
    }
   ],
   "source": [
    "ready_data = dataproc.fit(df).transform(df)\n",
    "ready_data.limit(10)"
   ]
  },
  {
   "cell_type": "markdown",
   "metadata": {},
   "source": [
    "## Подбираем гиперпараметры и тренируем модель"
   ]
  },
  {
   "cell_type": "code",
   "execution_count": 34,
   "metadata": {},
   "outputs": [],
   "source": [
    "from functools import partial\n",
    "\n",
    "import mlflow\n",
    "from hyperopt import fmin, tpe, hp, STATUS_OK, Trials, SparkTrials, Trials\n",
    "\n",
    "from pyspark.ml.classification import LogisticRegression"
   ]
  },
  {
   "cell_type": "code",
   "execution_count": 38,
   "metadata": {},
   "outputs": [],
   "source": [
    "# Определяем пространство поиска для hyperopt\n",
    "search_space = {\n",
    "    'regParam': hp.lognormal('regParam', 0, 1.0),\n",
    "    'elasticNetParam': hp.lognormal('elasticNetParam', 0, 1.0),\n",
    "    'fitIntercept': hp.choice('fitIntercept', [False, True])\n",
    "}\n",
    "\n",
    "def objective(params, train_data):\n",
    "    print(params)\n",
    "\n",
    "    accuracy = 1\n",
    "    return {'loss': -accuracy, 'status': STATUS_OK}"
   ]
  },
  {
   "cell_type": "code",
   "execution_count": 39,
   "metadata": {},
   "outputs": [
    {
     "name": "stdout",
     "output_type": "stream",
     "text": [
      "{'elasticNetParam': 4.57274705265695, 'fitIntercept': True, 'regParam': 0.2750182064962328}                                                                                           \n",
      "{'elasticNetParam': 1.2868650819451264, 'fitIntercept': True, 'regParam': 1.368845223907106}                                                                                          \n",
      "{'elasticNetParam': 0.7984944416134407, 'fitIntercept': False, 'regParam': 2.300725669366549}                                                                                         \n",
      "{'elasticNetParam': 6.934564250187186, 'fitIntercept': False, 'regParam': 0.7032801181576447}                                                                                         \n",
      "{'elasticNetParam': 1.1316492204072448, 'fitIntercept': False, 'regParam': 0.30000765509046656}                                                                                       \n",
      "{'elasticNetParam': 2.561542480340059, 'fitIntercept': False, 'regParam': 6.269462242039537}                                                                                          \n",
      "{'elasticNetParam': 0.6078819423829375, 'fitIntercept': False, 'regParam': 4.240665344295718}                                                                                         \n",
      "{'elasticNetParam': 0.6088828869733935, 'fitIntercept': True, 'regParam': 1.4899067776540513}                                                                                         \n",
      "{'elasticNetParam': 3.4748733005214287, 'fitIntercept': False, 'regParam': 0.5672529841270035}                                                                                        \n",
      "{'elasticNetParam': 0.48384221197668104, 'fitIntercept': True, 'regParam': 0.451253015374266}                                                                                         \n",
      "\n",
      "00%|████████████████████████████████████████████████████████████████████████████████████████████████████████████████████████████| 10/10 [00:00<00:00, 240.01trial/s, best loss: -1.0]"
     ]
    }
   ],
   "source": [
    "train_data, test_data = ready_data.randomSplit([.7, .3])\n",
    "\n",
    "trials = Trials()\n",
    "\n",
    "best = fmin(\n",
    "    fn=partial(objective, train_data=train_data),\n",
    "    space=search_space,\n",
    "    algo=tpe.suggest,\n",
    "    max_evals=10,\n",
    "    trials=trials\n",
    ")"
   ]
  },
  {
   "cell_type": "code",
   "execution_count": 15,
   "metadata": {},
   "outputs": [
    {
     "data": {
      "text/html": [
       "<table border='1'>\n",
       "<tr><th>Survived</th><th>Pclass</th><th>Sex</th><th>Age</th><th>SibSp</th><th>Parch</th><th>Fare</th><th>Embarked</th><th>SexIndex</th><th>EmbarkedIndex</th><th>SexVector</th><th>EmbarkVector</th><th>features</th></tr>\n",
       "<tr><td>0</td><td>1</td><td>female</td><td>25.0</td><td>1</td><td>2</td><td>151.55</td><td>S</td><td>1.0</td><td>0.0</td><td>(1,[],[])</td><td>(2,[0],[1.0])</td><td>[1.0,0.0,25.0,1.0...</td></tr>\n",
       "<tr><td>0</td><td>1</td><td>male</td><td>24.0</td><td>0</td><td>0</td><td>79.2</td><td>C</td><td>0.0</td><td>1.0</td><td>(1,[0],[1.0])</td><td>(2,[1],[1.0])</td><td>[1.0,1.0,24.0,0.0...</td></tr>\n",
       "<tr><td>0</td><td>1</td><td>male</td><td>27.0</td><td>0</td><td>2</td><td>211.5</td><td>C</td><td>0.0</td><td>1.0</td><td>(1,[0],[1.0])</td><td>(2,[1],[1.0])</td><td>[1.0,1.0,27.0,0.0...</td></tr>\n",
       "<tr><td>0</td><td>1</td><td>male</td><td>29.0</td><td>0</td><td>0</td><td>30.0</td><td>S</td><td>0.0</td><td>0.0</td><td>(1,[0],[1.0])</td><td>(2,[0],[1.0])</td><td>[1.0,1.0,29.0,0.0...</td></tr>\n",
       "<tr><td>0</td><td>1</td><td>male</td><td>31.0</td><td>1</td><td>0</td><td>52.0</td><td>S</td><td>0.0</td><td>0.0</td><td>(1,[0],[1.0])</td><td>(2,[0],[1.0])</td><td>[1.0,1.0,31.0,1.0...</td></tr>\n",
       "<tr><td>0</td><td>1</td><td>male</td><td>36.0</td><td>0</td><td>0</td><td>40.125</td><td>C</td><td>0.0</td><td>1.0</td><td>(1,[0],[1.0])</td><td>(2,[1],[1.0])</td><td>[1.0,1.0,36.0,0.0...</td></tr>\n",
       "<tr><td>0</td><td>1</td><td>male</td><td>37.0</td><td>0</td><td>1</td><td>29.7</td><td>C</td><td>0.0</td><td>1.0</td><td>(1,[0],[1.0])</td><td>(2,[1],[1.0])</td><td>[1.0,1.0,37.0,0.0...</td></tr>\n",
       "<tr><td>0</td><td>1</td><td>male</td><td>37.0</td><td>1</td><td>0</td><td>53.1</td><td>S</td><td>0.0</td><td>0.0</td><td>(1,[0],[1.0])</td><td>(2,[0],[1.0])</td><td>[1.0,1.0,37.0,1.0...</td></tr>\n",
       "<tr><td>0</td><td>1</td><td>male</td><td>38.0</td><td>0</td><td>1</td><td>153.4625</td><td>S</td><td>0.0</td><td>0.0</td><td>(1,[0],[1.0])</td><td>(2,[0],[1.0])</td><td>[1.0,1.0,38.0,0.0...</td></tr>\n",
       "<tr><td>0</td><td>1</td><td>male</td><td>42.0</td><td>1</td><td>0</td><td>52.0</td><td>S</td><td>0.0</td><td>0.0</td><td>(1,[0],[1.0])</td><td>(2,[0],[1.0])</td><td>[1.0,1.0,42.0,1.0...</td></tr>\n",
       "<tr><td>0</td><td>1</td><td>male</td><td>45.0</td><td>0</td><td>0</td><td>26.55</td><td>S</td><td>0.0</td><td>0.0</td><td>(1,[0],[1.0])</td><td>(2,[0],[1.0])</td><td>[1.0,1.0,45.0,0.0...</td></tr>\n",
       "<tr><td>0</td><td>1</td><td>male</td><td>45.0</td><td>0</td><td>0</td><td>35.5</td><td>S</td><td>0.0</td><td>0.0</td><td>(1,[0],[1.0])</td><td>(2,[0],[1.0])</td><td>[1.0,1.0,45.0,0.0...</td></tr>\n",
       "<tr><td>0</td><td>1</td><td>male</td><td>46.0</td><td>0</td><td>0</td><td>79.2</td><td>C</td><td>0.0</td><td>1.0</td><td>(1,[0],[1.0])</td><td>(2,[1],[1.0])</td><td>[1.0,1.0,46.0,0.0...</td></tr>\n",
       "<tr><td>0</td><td>1</td><td>male</td><td>47.0</td><td>0</td><td>0</td><td>38.5</td><td>S</td><td>0.0</td><td>0.0</td><td>(1,[0],[1.0])</td><td>(2,[0],[1.0])</td><td>[1.0,1.0,47.0,0.0...</td></tr>\n",
       "<tr><td>0</td><td>1</td><td>male</td><td>52.0</td><td>1</td><td>1</td><td>79.65</td><td>S</td><td>0.0</td><td>0.0</td><td>(1,[0],[1.0])</td><td>(2,[0],[1.0])</td><td>[1.0,1.0,52.0,1.0...</td></tr>\n",
       "<tr><td>0</td><td>1</td><td>male</td><td>54.0</td><td>0</td><td>0</td><td>51.8625</td><td>S</td><td>0.0</td><td>0.0</td><td>(1,[0],[1.0])</td><td>(2,[0],[1.0])</td><td>[1.0,1.0,54.0,0.0...</td></tr>\n",
       "<tr><td>0</td><td>1</td><td>male</td><td>54.0</td><td>0</td><td>1</td><td>77.2875</td><td>S</td><td>0.0</td><td>0.0</td><td>(1,[0],[1.0])</td><td>(2,[0],[1.0])</td><td>[1.0,1.0,54.0,0.0...</td></tr>\n",
       "<tr><td>0</td><td>1</td><td>male</td><td>58.0</td><td>0</td><td>0</td><td>29.7</td><td>C</td><td>0.0</td><td>1.0</td><td>(1,[0],[1.0])</td><td>(2,[1],[1.0])</td><td>[1.0,1.0,58.0,0.0...</td></tr>\n",
       "<tr><td>0</td><td>1</td><td>male</td><td>58.0</td><td>0</td><td>2</td><td>113.275</td><td>C</td><td>0.0</td><td>1.0</td><td>(1,[0],[1.0])</td><td>(2,[1],[1.0])</td><td>[1.0,1.0,58.0,0.0...</td></tr>\n",
       "<tr><td>0</td><td>1</td><td>male</td><td>60.0</td><td>0</td><td>0</td><td>26.55</td><td>S</td><td>0.0</td><td>0.0</td><td>(1,[0],[1.0])</td><td>(2,[0],[1.0])</td><td>[1.0,1.0,60.0,0.0...</td></tr>\n",
       "</table>\n",
       "only showing top 20 rows\n"
      ],
      "text/plain": [
       "+--------+------+------+----+-----+-----+--------+--------+--------+-------------+-------------+-------------+--------------------+\n",
       "|Survived|Pclass|   Sex| Age|SibSp|Parch|    Fare|Embarked|SexIndex|EmbarkedIndex|    SexVector| EmbarkVector|            features|\n",
       "+--------+------+------+----+-----+-----+--------+--------+--------+-------------+-------------+-------------+--------------------+\n",
       "|       0|     1|female|25.0|    1|    2|  151.55|       S|     1.0|          0.0|    (1,[],[])|(2,[0],[1.0])|[1.0,0.0,25.0,1.0...|\n",
       "|       0|     1|  male|24.0|    0|    0|    79.2|       C|     0.0|          1.0|(1,[0],[1.0])|(2,[1],[1.0])|[1.0,1.0,24.0,0.0...|\n",
       "|       0|     1|  male|27.0|    0|    2|   211.5|       C|     0.0|          1.0|(1,[0],[1.0])|(2,[1],[1.0])|[1.0,1.0,27.0,0.0...|\n",
       "|       0|     1|  male|29.0|    0|    0|    30.0|       S|     0.0|          0.0|(1,[0],[1.0])|(2,[0],[1.0])|[1.0,1.0,29.0,0.0...|\n",
       "|       0|     1|  male|31.0|    1|    0|    52.0|       S|     0.0|          0.0|(1,[0],[1.0])|(2,[0],[1.0])|[1.0,1.0,31.0,1.0...|\n",
       "|       0|     1|  male|36.0|    0|    0|  40.125|       C|     0.0|          1.0|(1,[0],[1.0])|(2,[1],[1.0])|[1.0,1.0,36.0,0.0...|\n",
       "|       0|     1|  male|37.0|    0|    1|    29.7|       C|     0.0|          1.0|(1,[0],[1.0])|(2,[1],[1.0])|[1.0,1.0,37.0,0.0...|\n",
       "|       0|     1|  male|37.0|    1|    0|    53.1|       S|     0.0|          0.0|(1,[0],[1.0])|(2,[0],[1.0])|[1.0,1.0,37.0,1.0...|\n",
       "|       0|     1|  male|38.0|    0|    1|153.4625|       S|     0.0|          0.0|(1,[0],[1.0])|(2,[0],[1.0])|[1.0,1.0,38.0,0.0...|\n",
       "|       0|     1|  male|42.0|    1|    0|    52.0|       S|     0.0|          0.0|(1,[0],[1.0])|(2,[0],[1.0])|[1.0,1.0,42.0,1.0...|\n",
       "|       0|     1|  male|45.0|    0|    0|   26.55|       S|     0.0|          0.0|(1,[0],[1.0])|(2,[0],[1.0])|[1.0,1.0,45.0,0.0...|\n",
       "|       0|     1|  male|45.0|    0|    0|    35.5|       S|     0.0|          0.0|(1,[0],[1.0])|(2,[0],[1.0])|[1.0,1.0,45.0,0.0...|\n",
       "|       0|     1|  male|46.0|    0|    0|    79.2|       C|     0.0|          1.0|(1,[0],[1.0])|(2,[1],[1.0])|[1.0,1.0,46.0,0.0...|\n",
       "|       0|     1|  male|47.0|    0|    0|    38.5|       S|     0.0|          0.0|(1,[0],[1.0])|(2,[0],[1.0])|[1.0,1.0,47.0,0.0...|\n",
       "|       0|     1|  male|52.0|    1|    1|   79.65|       S|     0.0|          0.0|(1,[0],[1.0])|(2,[0],[1.0])|[1.0,1.0,52.0,1.0...|\n",
       "|       0|     1|  male|54.0|    0|    0| 51.8625|       S|     0.0|          0.0|(1,[0],[1.0])|(2,[0],[1.0])|[1.0,1.0,54.0,0.0...|\n",
       "|       0|     1|  male|54.0|    0|    1| 77.2875|       S|     0.0|          0.0|(1,[0],[1.0])|(2,[0],[1.0])|[1.0,1.0,54.0,0.0...|\n",
       "|       0|     1|  male|58.0|    0|    0|    29.7|       C|     0.0|          1.0|(1,[0],[1.0])|(2,[1],[1.0])|[1.0,1.0,58.0,0.0...|\n",
       "|       0|     1|  male|58.0|    0|    2| 113.275|       C|     0.0|          1.0|(1,[0],[1.0])|(2,[1],[1.0])|[1.0,1.0,58.0,0.0...|\n",
       "|       0|     1|  male|60.0|    0|    0|   26.55|       S|     0.0|          0.0|(1,[0],[1.0])|(2,[0],[1.0])|[1.0,1.0,60.0,0.0...|\n",
       "+--------+------+------+----+-----+-----+--------+--------+--------+-------------+-------------+-------------+--------------------+\n",
       "only showing top 20 rows"
      ]
     },
     "execution_count": 15,
     "metadata": {},
     "output_type": "execute_result"
    }
   ],
   "source": []
  }
 ],
 "metadata": {
  "kernelspec": {
   "display_name": "Python 3 (ipykernel)",
   "language": "python",
   "name": "python3"
  },
  "language_info": {
   "codemirror_mode": {
    "name": "ipython",
    "version": 3
   },
   "file_extension": ".py",
   "mimetype": "text/x-python",
   "name": "python",
   "nbconvert_exporter": "python",
   "pygments_lexer": "ipython3",
   "version": "3.8.13"
  }
 },
 "nbformat": 4,
 "nbformat_minor": 4
}
